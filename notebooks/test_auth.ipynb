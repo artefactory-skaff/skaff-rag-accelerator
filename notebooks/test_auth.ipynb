{
 "cells": [
  {
   "cell_type": "code",
   "execution_count": null,
   "metadata": {},
   "outputs": [],
   "source": [
    "%load_ext autoreload\n",
    "%autoreload 2"
   ]
  },
  {
   "cell_type": "code",
   "execution_count": null,
   "metadata": {},
   "outputs": [],
   "source": [
    "import os\n",
    "import sys\n",
    "\n",
    "current_directory = os.getcwd()\n",
    "parent_directory = os.path.dirname(current_directory)\n",
    "sys.path.append(parent_directory)"
   ]
  },
  {
   "cell_type": "code",
   "execution_count": null,
   "metadata": {},
   "outputs": [],
   "source": [
    "from typing import NoReturn\n",
    "from fastapi.testclient import TestClient\n",
    "from lib.main import app\n",
    "\n",
    "import streamlit as st\n",
    "import requests\n",
    "\n",
    "client = TestClient(app)"
   ]
  },
  {
   "cell_type": "code",
   "execution_count": null,
   "metadata": {},
   "outputs": [],
   "source": [
    "def log_in(username: str, password: str) -> Optional[str]:\n",
    "    response = client.post(\n",
    "        \"/user/login\", data={\"username\": username, \"password\": password}\n",
    "    )\n",
    "    if response.status_code == 200 and \"access_token\" in response.json():\n",
    "        return response.json()[\"access_token\"]\n",
    "    else:\n",
    "        return None\n",
    "\n",
    "def sign_up(username: str, password: str) -> str:\n",
    "    response = client.post(\n",
    "        \"/user/signup\", json={\"username\": username, \"password\": password}\n",
    "    )\n",
    "    if response.status_code == 200 and \"email\" in response.json():\n",
    "        return f\"User {username} registered successfully.\"\n",
    "    else:\n",
    "        return \"Registration failed.\"\n",
    "\n",
    "def reset_pwd(username: str) -> str:\n",
    "    # Assuming there's an endpoint to request a password reset\n",
    "    response = client.post(\n",
    "        \"/user/reset-password\", json={\"username\": username}\n",
    "    )\n",
    "    if response.status_code == 200:\n",
    "        return \"Password reset link sent.\"\n",
    "    else:\n",
    "        return \"Failed to send password reset link.\"\n"
   ]
  },
  {
   "cell_type": "code",
   "execution_count": null,
   "metadata": {},
   "outputs": [],
   "source": [
    "sign_up(\"sarah.lauzeral@artefact.com\", \"test_pwd\")"
   ]
  },
  {
   "cell_type": "code",
   "execution_count": null,
   "metadata": {},
   "outputs": [],
   "source": [
    "sign_up(\"test@example.com\", \"test_pwd\")"
   ]
  },
  {
   "cell_type": "code",
   "execution_count": null,
   "metadata": {},
   "outputs": [],
   "source": []
  }
 ],
 "metadata": {
  "kernelspec": {
   "display_name": "skaff-rag-accelerator",
   "language": "python",
   "name": "python3"
  },
  "language_info": {
   "codemirror_mode": {
    "name": "ipython",
    "version": 3
   },
   "file_extension": ".py",
   "mimetype": "text/x-python",
   "name": "python",
   "nbconvert_exporter": "python",
   "pygments_lexer": "ipython3",
   "version": "3.11.5"
  }
 },
 "nbformat": 4,
 "nbformat_minor": 2
}
