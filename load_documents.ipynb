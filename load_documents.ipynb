{
 "cells": [
  {
   "cell_type": "markdown",
   "metadata": {},
   "source": [
    "This is an interactive example that will walk you through the initialization of a RAG and the basic embedding of a few documents."
   ]
  },
  {
   "cell_type": "code",
   "execution_count": 1,
   "metadata": {},
   "outputs": [
    {
     "name": "stderr",
     "output_type": "stream",
     "text": [
      "Successfuly ran script at /Users/alexis.vialaret/vscode_projects/skaff-rag-accelerator/backend/rag_components/rag_tables.sql for sqlite\n",
      "/Users/alexis.vialaret/vscode_projects/skaff-rag-accelerator/venv/lib/python3.11/site-packages/langchain_core/_api/deprecation.py:117: LangChainDeprecationWarning: The class `langchain_community.chat_models.azure_openai.AzureChatOpenAI` was deprecated in langchain-community 0.0.10 and will be removed in 0.2.0. An updated version of the class exists in the langchain-openai package and should be used instead. To use it run `pip install -U langchain-openai` and import as `from langchain_openai import AzureChatOpenAI`.\n",
      "  warn_deprecated(\n",
      "/Users/alexis.vialaret/vscode_projects/skaff-rag-accelerator/venv/lib/python3.11/site-packages/tqdm/auto.py:21: TqdmWarning: IProgress not found. Please update jupyter and ipywidgets. See https://ipywidgets.readthedocs.io/en/stable/user_install.html\n",
      "  from .autonotebook import tqdm as notebook_tqdm\n"
     ]
    },
    {
     "name": "stdout",
     "output_type": "stream",
     "text": [
      "LLM: AzureChatOpenAI\n",
      "Embedding model: HuggingFaceEmbeddings\n",
      "Vector store: Chroma\n",
      "Retriever: VectorStoreRetriever\n"
     ]
    }
   ],
   "source": [
    "from pathlib import Path\n",
    "import os\n",
    "\n",
    "from backend.config import RagConfig\n",
    "from backend.rag_components.rag import RAG\n",
    "\n",
    "repo_root = Path(os.getcwd())\n",
    "\n",
    "rag_config = RagConfig.from_yaml(repo_root / \"backend\" / \"config.yaml\")\n",
    "rag = RAG(config=rag_config)\n",
    "\n",
    "print(\"LLM:\", rag.llm.__class__.__name__)\n",
    "print(\"Embedding model:\", rag.embeddings.__class__.__name__)\n",
    "print(\"Vector store:\", rag.vector_store.__class__.__name__)\n",
    "print(\"Retriever:\", rag.retriever.__class__.__name__)"
   ]
  },
  {
   "cell_type": "markdown",
   "metadata": {},
   "source": [
    "Here we transform our CSV into standalone embeddable documents that we will be able to feed the vector store.\n",
    "\n",
    "We generate one document for each line, and each document will contain header:value pairs for all the columns.\n",
    "\n",
    "This is a very simplistic example, but vector store data models can get more advanced to support more [powerful retreival methods.](https://python.langchain.com/docs/modules/data_connection/retrievers/)"
   ]
  },
  {
   "cell_type": "code",
   "execution_count": 2,
   "metadata": {},
   "outputs": [
    {
     "data": {
      "text/plain": [
       "[Document(page_content='rank: 1\\nfinalWorth: 211000\\ncategory: Fashion & Retail\\npersonName: Bernard Arnault & family\\nage: 74\\ncountry: France\\ncity: Paris\\nsource: LVMH\\nindustries: Fashion & Retail\\ncountryOfCitizenship: France\\norganization: LVMH Moët Hennessy Louis Vuitton\\nselfMade: FALSE\\nstatus: U\\ngender: M\\nbirthDate: 3/5/1949 0:00\\nlastName: Arnault\\nfirstName: Bernard\\ntitle: Chairman and CEO\\ndate: 4/4/2023 5:01\\nstate: \\nresidenceStateRegion: \\nbirthYear: 1949\\nbirthMonth: 3\\nbirthDay: 5\\ncpi_country: 110.05\\ncpi_change_country: 1.1\\ngdp_country: $2,715,518,274,227\\ngross_tertiary_education_enrollment: 65.6\\ngross_primary_education_enrollment_country: 102.5\\nlife_expectancy_country: 82.5\\ntax_revenue_country_country: 24.2\\ntotal_tax_rate_country: 60.7\\npopulation_country: 67059887\\nlatitude_country: 46.227638\\nlongitude_country: 2.213749', metadata={'source': '/Users/alexis.vialaret/vscode_projects/skaff-rag-accelerator/examples/billionaires.csv', 'row': 0}),\n",
       " Document(page_content='rank: 2\\nfinalWorth: 180000\\ncategory: Automotive\\npersonName: Elon Musk\\nage: 51\\ncountry: United States\\ncity: Austin\\nsource: Tesla, SpaceX\\nindustries: Automotive\\ncountryOfCitizenship: United States\\norganization: Tesla\\nselfMade: TRUE\\nstatus: D\\ngender: M\\nbirthDate: 6/28/1971 0:00\\nlastName: Musk\\nfirstName: Elon\\ntitle: CEO\\ndate: 4/4/2023 5:01\\nstate: Texas\\nresidenceStateRegion: South\\nbirthYear: 1971\\nbirthMonth: 6\\nbirthDay: 28\\ncpi_country: 117.24\\ncpi_change_country: 7.5\\ngdp_country: $21,427,700,000,000\\ngross_tertiary_education_enrollment: 88.2\\ngross_primary_education_enrollment_country: 101.8\\nlife_expectancy_country: 78.5\\ntax_revenue_country_country: 9.6\\ntotal_tax_rate_country: 36.6\\npopulation_country: 328239523\\nlatitude_country: 37.09024\\nlongitude_country: -95.712891', metadata={'source': '/Users/alexis.vialaret/vscode_projects/skaff-rag-accelerator/examples/billionaires.csv', 'row': 1}),\n",
       " Document(page_content='rank: 3\\nfinalWorth: 114000\\ncategory: Technology\\npersonName: Jeff Bezos\\nage: 59\\ncountry: United States\\ncity: Medina\\nsource: Amazon\\nindustries: Technology\\ncountryOfCitizenship: United States\\norganization: Amazon\\nselfMade: TRUE\\nstatus: D\\ngender: M\\nbirthDate: 1/12/1964 0:00\\nlastName: Bezos\\nfirstName: Jeff\\ntitle: Chairman and Founder\\ndate: 4/4/2023 5:01\\nstate: Washington\\nresidenceStateRegion: West\\nbirthYear: 1964\\nbirthMonth: 1\\nbirthDay: 12\\ncpi_country: 117.24\\ncpi_change_country: 7.5\\ngdp_country: $21,427,700,000,000\\ngross_tertiary_education_enrollment: 88.2\\ngross_primary_education_enrollment_country: 101.8\\nlife_expectancy_country: 78.5\\ntax_revenue_country_country: 9.6\\ntotal_tax_rate_country: 36.6\\npopulation_country: 328239523\\nlatitude_country: 37.09024\\nlongitude_country: -95.712891', metadata={'source': '/Users/alexis.vialaret/vscode_projects/skaff-rag-accelerator/examples/billionaires.csv', 'row': 2}),\n",
       " Document(page_content='rank: 4\\nfinalWorth: 107000\\ncategory: Technology\\npersonName: Larry Ellison\\nage: 78\\ncountry: United States\\ncity: Lanai\\nsource: Oracle\\nindustries: Technology\\ncountryOfCitizenship: United States\\norganization: Oracle\\nselfMade: TRUE\\nstatus: U\\ngender: M\\nbirthDate: 8/17/1944 0:00\\nlastName: Ellison\\nfirstName: Larry\\ntitle: CTO and Founder\\ndate: 4/4/2023 5:01\\nstate: Hawaii\\nresidenceStateRegion: West\\nbirthYear: 1944\\nbirthMonth: 8\\nbirthDay: 17\\ncpi_country: 117.24\\ncpi_change_country: 7.5\\ngdp_country: $21,427,700,000,000\\ngross_tertiary_education_enrollment: 88.2\\ngross_primary_education_enrollment_country: 101.8\\nlife_expectancy_country: 78.5\\ntax_revenue_country_country: 9.6\\ntotal_tax_rate_country: 36.6\\npopulation_country: 328239523\\nlatitude_country: 37.09024\\nlongitude_country: -95.712891', metadata={'source': '/Users/alexis.vialaret/vscode_projects/skaff-rag-accelerator/examples/billionaires.csv', 'row': 3}),\n",
       " Document(page_content='rank: 5\\nfinalWorth: 106000\\ncategory: Finance & Investments\\npersonName: Warren Buffett\\nage: 92\\ncountry: United States\\ncity: Omaha\\nsource: Berkshire Hathaway\\nindustries: Finance & Investments\\ncountryOfCitizenship: United States\\norganization: Berkshire Hathaway Inc. (Cl A)\\nselfMade: TRUE\\nstatus: D\\ngender: M\\nbirthDate: 8/30/1930 0:00\\nlastName: Buffett\\nfirstName: Warren\\ntitle: CEO\\ndate: 4/4/2023 5:01\\nstate: Nebraska\\nresidenceStateRegion: Midwest\\nbirthYear: 1930\\nbirthMonth: 8\\nbirthDay: 30\\ncpi_country: 117.24\\ncpi_change_country: 7.5\\ngdp_country: $21,427,700,000,000\\ngross_tertiary_education_enrollment: 88.2\\ngross_primary_education_enrollment_country: 101.8\\nlife_expectancy_country: 78.5\\ntax_revenue_country_country: 9.6\\ntotal_tax_rate_country: 36.6\\npopulation_country: 328239523\\nlatitude_country: 37.09024\\nlongitude_country: -95.712891', metadata={'source': '/Users/alexis.vialaret/vscode_projects/skaff-rag-accelerator/examples/billionaires.csv', 'row': 4})]"
      ]
     },
     "execution_count": 2,
     "metadata": {},
     "output_type": "execute_result"
    }
   ],
   "source": [
    "from langchain_community.document_loaders.csv_loader import CSVLoader\n",
    "from langchain.vectorstores.utils import filter_complex_metadata\n",
    "\n",
    "\n",
    "data_sample_path = repo_root / \"examples\" / \"billionaires.csv\"\n",
    "\n",
    "loader = CSVLoader(\n",
    "    file_path=str(data_sample_path),\n",
    "    csv_args={\"delimiter\": \",\", \"quotechar\": '\"', \"escapechar\": \"\\\\\"},\n",
    "    encoding=\"utf-8-sig\",\n",
    ")\n",
    "\n",
    "raw_documents = loader.load()\n",
    "documents = filter_complex_metadata(raw_documents)\n",
    "documents[:5]"
   ]
  },
  {
   "cell_type": "markdown",
   "metadata": {},
   "source": [
    "To load the docs in the vector store, we recommend using the `load_document` as it [indexes previously embedded docs](https://python.langchain.com/docs/modules/data_connection/indexing), making the process idempotent."
   ]
  },
  {
   "cell_type": "code",
   "execution_count": 3,
   "metadata": {},
   "outputs": [
    {
     "name": "stderr",
     "output_type": "stream",
     "text": [
      "Indexing 2640 documents.\n",
      "Indexing batch 0 to 100.\n",
      "{'event': 'load_documents', 'num_added': 100, 'num_updated': 0, 'num_skipped': 0, 'num_deleted': 0}\n",
      "Indexing batch 100 to 200.\n",
      "{'event': 'load_documents', 'num_added': 100, 'num_updated': 0, 'num_skipped': 0, 'num_deleted': 0}\n",
      "Indexing batch 200 to 300.\n",
      "{'event': 'load_documents', 'num_added': 100, 'num_updated': 0, 'num_skipped': 0, 'num_deleted': 0}\n",
      "Indexing batch 300 to 400.\n",
      "{'event': 'load_documents', 'num_added': 100, 'num_updated': 0, 'num_skipped': 0, 'num_deleted': 0}\n",
      "Indexing batch 400 to 500.\n",
      "{'event': 'load_documents', 'num_added': 100, 'num_updated': 0, 'num_skipped': 0, 'num_deleted': 0}\n",
      "Indexing batch 500 to 600.\n",
      "{'event': 'load_documents', 'num_added': 100, 'num_updated': 0, 'num_skipped': 0, 'num_deleted': 0}\n",
      "Indexing batch 600 to 700.\n",
      "{'event': 'load_documents', 'num_added': 100, 'num_updated': 0, 'num_skipped': 0, 'num_deleted': 0}\n",
      "Indexing batch 700 to 800.\n",
      "{'event': 'load_documents', 'num_added': 100, 'num_updated': 0, 'num_skipped': 0, 'num_deleted': 0}\n",
      "Indexing batch 800 to 900.\n",
      "{'event': 'load_documents', 'num_added': 100, 'num_updated': 0, 'num_skipped': 0, 'num_deleted': 0}\n",
      "Indexing batch 900 to 1000.\n",
      "{'event': 'load_documents', 'num_added': 100, 'num_updated': 0, 'num_skipped': 0, 'num_deleted': 0}\n",
      "Indexing batch 1000 to 1100.\n",
      "{'event': 'load_documents', 'num_added': 100, 'num_updated': 0, 'num_skipped': 0, 'num_deleted': 0}\n",
      "Indexing batch 1100 to 1200.\n",
      "{'event': 'load_documents', 'num_added': 100, 'num_updated': 0, 'num_skipped': 0, 'num_deleted': 0}\n",
      "Indexing batch 1200 to 1300.\n",
      "{'event': 'load_documents', 'num_added': 100, 'num_updated': 0, 'num_skipped': 0, 'num_deleted': 0}\n",
      "Indexing batch 1300 to 1400.\n",
      "{'event': 'load_documents', 'num_added': 100, 'num_updated': 0, 'num_skipped': 0, 'num_deleted': 0}\n",
      "Indexing batch 1400 to 1500.\n",
      "{'event': 'load_documents', 'num_added': 100, 'num_updated': 0, 'num_skipped': 0, 'num_deleted': 0}\n",
      "Indexing batch 1500 to 1600.\n",
      "{'event': 'load_documents', 'num_added': 100, 'num_updated': 0, 'num_skipped': 0, 'num_deleted': 0}\n",
      "Indexing batch 1600 to 1700.\n",
      "{'event': 'load_documents', 'num_added': 100, 'num_updated': 0, 'num_skipped': 0, 'num_deleted': 0}\n",
      "Indexing batch 1700 to 1800.\n",
      "{'event': 'load_documents', 'num_added': 100, 'num_updated': 0, 'num_skipped': 0, 'num_deleted': 0}\n",
      "Indexing batch 1800 to 1900.\n",
      "{'event': 'load_documents', 'num_added': 100, 'num_updated': 0, 'num_skipped': 0, 'num_deleted': 0}\n",
      "Indexing batch 1900 to 2000.\n",
      "{'event': 'load_documents', 'num_added': 100, 'num_updated': 0, 'num_skipped': 0, 'num_deleted': 0}\n",
      "Indexing batch 2000 to 2100.\n",
      "{'event': 'load_documents', 'num_added': 100, 'num_updated': 0, 'num_skipped': 0, 'num_deleted': 0}\n",
      "Indexing batch 2100 to 2200.\n",
      "{'event': 'load_documents', 'num_added': 100, 'num_updated': 0, 'num_skipped': 0, 'num_deleted': 0}\n",
      "Indexing batch 2200 to 2300.\n",
      "{'event': 'load_documents', 'num_added': 100, 'num_updated': 0, 'num_skipped': 0, 'num_deleted': 0}\n",
      "Indexing batch 2300 to 2400.\n",
      "{'event': 'load_documents', 'num_added': 100, 'num_updated': 0, 'num_skipped': 0, 'num_deleted': 0}\n",
      "Indexing batch 2400 to 2500.\n",
      "{'event': 'load_documents', 'num_added': 100, 'num_updated': 0, 'num_skipped': 0, 'num_deleted': 0}\n",
      "Indexing batch 2500 to 2600.\n",
      "{'event': 'load_documents', 'num_added': 100, 'num_updated': 0, 'num_skipped': 0, 'num_deleted': 0}\n",
      "Indexing batch 2600 to 2640.\n",
      "{'event': 'load_documents', 'num_added': 40, 'num_updated': 0, 'num_skipped': 0, 'num_deleted': 0}\n"
     ]
    }
   ],
   "source": [
    "rag.load_documents(documents)"
   ]
  }
 ],
 "metadata": {
  "kernelspec": {
   "display_name": "venv",
   "language": "python",
   "name": "python3"
  },
  "language_info": {
   "codemirror_mode": {
    "name": "ipython",
    "version": 3
   },
   "file_extension": ".py",
   "mimetype": "text/x-python",
   "name": "python",
   "nbconvert_exporter": "python",
   "pygments_lexer": "ipython3",
   "version": "3.11.5"
  }
 },
 "nbformat": 4,
 "nbformat_minor": 2
}
