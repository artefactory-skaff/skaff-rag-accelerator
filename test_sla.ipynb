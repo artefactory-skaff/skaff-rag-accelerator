{
 "cells": [
  {
   "cell_type": "code",
   "execution_count": null,
   "metadata": {},
   "outputs": [],
   "source": [
    "%load_ext autoreload\n",
    "%autoreload 2"
   ]
  },
  {
   "cell_type": "code",
   "execution_count": null,
   "metadata": {},
   "outputs": [],
   "source": [
    "import os\n",
    "import sys\n",
    "\n",
    "current_directory = os.getcwd()\n",
    "data_folder_path = f\"{current_directory}/data\""
   ]
  },
  {
   "cell_type": "code",
   "execution_count": null,
   "metadata": {},
   "outputs": [],
   "source": [
    "import lib.backend as utils\n",
    "from dotenv import load_dotenv\n",
    "\n",
    "load_dotenv()\n",
    "embedding_api_base = os.getenv(\"EMBEDDING_OPENAI_API_BASE\")\n",
    "embedding_api_key = os.getenv(\"EMBEDDING_API_KEY\")"
   ]
  },
  {
   "cell_type": "code",
   "execution_count": null,
   "metadata": {},
   "outputs": [],
   "source": [
    "from typing import List\n",
    "\n",
    "def collect_files_with_extension(folder_path: str, extension: str) -> List[str]:\n",
    "    \"\"\"Collects and returns a list of file names with a given extension within the specified folder.\"\"\"\n",
    "    files_with_extension = []\n",
    "\n",
    "    if not extension.startswith('.'):\n",
    "        extension = '.' + extension\n",
    "\n",
    "    for file_name in os.listdir(folder_path):\n",
    "        if file_name.endswith(extension):\n",
    "            files_with_extension.append(file_name)\n",
    "\n",
    "    return files_with_extension[0]"
   ]
  },
  {
   "cell_type": "code",
   "execution_count": null,
   "metadata": {},
   "outputs": [],
   "source": [
    "file_extension = \".pdf\"\n",
    "file_name = collect_files_with_extension(data_folder_path, file_extension)\n",
    "file_path = f\"{data_folder_path}/{file_name}\"\n",
    "file_path"
   ]
  },
  {
   "cell_type": "code",
   "execution_count": null,
   "metadata": {},
   "outputs": [],
   "source": [
    "documents = utils.load_documents(file_extension, file_path)\n",
    "texts = utils.get_chunks(documents, chunk_size=1500, chunk_overlap=200, text_splitter_type=\"recursive\")\n",
    "print(len(texts))\n",
    "texts[1]"
   ]
  },
  {
   "cell_type": "code",
   "execution_count": null,
   "metadata": {},
   "outputs": [],
   "source": [
    "llm = utils.get_llm(temperature=0.1, model_version=\"4\", live_streaming=True)\n",
    "embeddings = utils.get_embeddings_model(embedding_api_base, embedding_api_key)"
   ]
  },
  {
   "cell_type": "code",
   "execution_count": null,
   "metadata": {},
   "outputs": [],
   "source": [
    "def choose_momery_type(memory_type):\n",
    "    if memory_type == \"\":\n",
    "        memory = "
   ]
  },
  {
   "cell_type": "code",
   "execution_count": null,
   "metadata": {},
   "outputs": [],
   "source": [
    "documents = utils.load_documents(source=\"site\")\n",
    "texts = utils.get_chunks(documents, chunk_size=1500, chunk_overlap=200)\n",
    "docsearch = utils.get_vector_store(texts, embeddings)\n",
    "answer_chain = utils.get_answer_chain(llm, docsearch, memory)"
   ]
  }
 ],
 "metadata": {
  "kernelspec": {
   "display_name": "skaff-rag-accelerator",
   "language": "python",
   "name": "python3"
  },
  "language_info": {
   "codemirror_mode": {
    "name": "ipython",
    "version": 3
   },
   "file_extension": ".py",
   "mimetype": "text/x-python",
   "name": "python",
   "nbconvert_exporter": "python",
   "pygments_lexer": "ipython3",
   "version": "3.11.5"
  }
 },
 "nbformat": 4,
 "nbformat_minor": 2
}
